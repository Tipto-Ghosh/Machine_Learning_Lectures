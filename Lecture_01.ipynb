{
 "cells": [
  {
   "cell_type": "raw",
   "id": "728e0386-d41e-4eaa-8c61-92f233a4f686",
   "metadata": {},
   "source": [
    "Machine Learning: Machine Learning involves using data to make predictions or perform tasks. Main Focus is making decisions or predictions based on data.\n",
    "To make a machine learning application we have to go through some steps.\n",
    "1. Collect Data and process it like ML algorithm can deal with these data\n",
    "2. Space of possible solutions\n",
    "3. Charaterige objectives\n",
    "4. Use an algorithm to find the solution\n",
    "5. Valided the result"
   ]
  },
  {
   "cell_type": "code",
   "execution_count": null,
   "id": "9275cb66-dcec-4e40-8786-f53d09261e97",
   "metadata": {},
   "outputs": [],
   "source": []
  }
 ],
 "metadata": {
  "kernelspec": {
   "display_name": "Python 3 (ipykernel)",
   "language": "python",
   "name": "python3"
  },
  "language_info": {
   "codemirror_mode": {
    "name": "ipython",
    "version": 3
   },
   "file_extension": ".py",
   "mimetype": "text/x-python",
   "name": "python",
   "nbconvert_exporter": "python",
   "pygments_lexer": "ipython3",
   "version": "3.12.7"
  },
  "widgets": {
   "application/vnd.jupyter.widget-state+json": {
    "state": {},
    "version_major": 2,
    "version_minor": 0
   }
  }
 },
 "nbformat": 4,
 "nbformat_minor": 5
}
