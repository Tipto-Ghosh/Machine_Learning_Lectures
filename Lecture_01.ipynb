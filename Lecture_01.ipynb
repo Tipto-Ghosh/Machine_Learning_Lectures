{
 "cells": [
  {
   "cell_type": "markdown",
   "id": "4a276127-1af4-4c51-90fe-27ee0dc32150",
   "metadata": {},
   "source": [
    "## Machine Learning Introduction"
   ]
  },
  {
   "cell_type": "raw",
   "id": "b1d8eefe-f9ea-4b37-8303-69506c74a6ca",
   "metadata": {},
   "source": [
    "Machine Learning Definition: A computer program is said to learn from experience E with respect to some class of task T and \n",
    "performance measure P, if it's performance at tasks in T, as measured by P, improves with experience E."
   ]
  },
  {
   "cell_type": "raw",
   "id": "728e0386-d41e-4eaa-8c61-92f233a4f686",
   "metadata": {},
   "source": [
    "Machine Learning: Machine Learning involves using data to make predictions or perform tasks. Main Focus is making decisions or predictions based on data.\n",
    "To make a machine learning application we have to go through some steps.\n",
    "1. Collect Data and process it like ML algorithm can deal with these data\n",
    "2. Space of possible solutions\n",
    "3. Charaterige objectives\n",
    "4. Use an algorithm to find the solution\n",
    "5. Valided the result"
   ]
  },
  {
   "cell_type": "raw",
   "id": "5a1783f8-4ae4-4e12-9ba7-5fdc3d997a23",
   "metadata": {},
   "source": [
    "AI a broader field involving creating intelligent system. ML is a subset of AI that focuses specially on creating algorithm\n",
    "and statiscal models that allows computers to learn from experiences(data) without being exolicitly programmed for every task."
   ]
  },
  {
   "cell_type": "raw",
   "id": "18c0a013-f0bc-4054-ac66-b216f7744470",
   "metadata": {},
   "source": [
    "Types of ML:\n",
    "1. Supervised Learning: Learning with labled data.Labled Data means Output is already known to me.\n",
    "2. Unsupervised Learning: Learning with unlabled data. Finding patterns in unlabled data\n",
    "3. Reinforcement Learning: Learning by intereacting with an environment to maximize rewards"
   ]
  },
  {
   "cell_type": "raw",
   "id": "1d91470b-20d4-4cfc-aa47-bf0233bf353f",
   "metadata": {},
   "source": [
    "In Summary, AI is the goal and ML is one of the way to achieve that goal. While AI is focused on making systems 'Intelligent', ML is specially about enabling systems to learn from data"
   ]
  },
  {
   "cell_type": "markdown",
   "id": "c74182a5-2437-4d14-aeca-b8dd2423d7f6",
   "metadata": {},
   "source": [
    "## AI v/s ML:"
   ]
  },
  {
   "cell_type": "raw",
   "id": "69ec2cef-7567-4915-b0da-ff014d06bf4f",
   "metadata": {},
   "source": [
    "Aspect\t        Artificial Intelligence (AI)\t                             Machine Learning (ML)\n",
    "Scope\t          1. Broader field involving creating intelligent systems.\t    1. Subfield of AI focusing on learning from data.\n",
    "Purpose\t          2. Mimicking human intelligence in various tasks.\t            2. Automating learning from patterns in data.\n",
    "Implementation\t  3. Can involve rules, logic, and programming (beyond ML).\t    3. Relies on algorithms and statistical models.\n",
    "Examples\t      4. A chatbot understanding a query and responding.\t   4.The chatbot learning how to improve responses overtime.\n",
    "Dependency\t      5. AI doesn’t always require ML.\t                            5. ML is one way to achieve AI."
   ]
  },
  {
   "cell_type": "markdown",
   "id": "432b9e74-3fc8-4a18-aa64-0e31ccd5461b",
   "metadata": {},
   "source": [
    "### Types of Machine Learning"
   ]
  },
  {
   "cell_type": "raw",
   "id": "971bc9db-a361-4c1f-9f8a-cf74ee04f401",
   "metadata": {},
   "source": [
    "There is 3 types of machine learning algorithms. 1. Supervised 2. Unsupervised 3. Reinforcement"
   ]
  },
  {
   "cell_type": "markdown",
   "id": "803c3a4f-1f30-494b-b601-19df31928417",
   "metadata": {},
   "source": [
    "### Supervised Learning"
   ]
  },
  {
   "cell_type": "raw",
   "id": "10335ef5-6c21-414b-af87-b9ecedda365d",
   "metadata": {},
   "source": [
    "This types of algorthms learn from labeled data, where the input-output relationship is known.These algo's are trained on datasets,\n",
    "where each example is paired with a target/response variable known as the label.The goal is to learn a mapping function from input\n",
    "data to the corresponding output label."
   ]
  },
  {
   "cell_type": "raw",
   "id": "4c3a8330-28fe-4049-ba4f-ea4d28de10d5",
   "metadata": {},
   "source": []
  },
  {
   "cell_type": "markdown",
   "id": "1a9cb828-4a22-4c39-88db-8fb207cb2666",
   "metadata": {},
   "source": [
    "### Unsupervised Learning"
   ]
  },
  {
   "cell_type": "raw",
   "id": "6a56caf0-6df7-4283-9cd9-c73097664810",
   "metadata": {},
   "source": []
  }
 ],
 "metadata": {
  "kernelspec": {
   "display_name": "Python 3 (ipykernel)",
   "language": "python",
   "name": "python3"
  },
  "language_info": {
   "codemirror_mode": {
    "name": "ipython",
    "version": 3
   },
   "file_extension": ".py",
   "mimetype": "text/x-python",
   "name": "python",
   "nbconvert_exporter": "python",
   "pygments_lexer": "ipython3",
   "version": "3.12.7"
  },
  "widgets": {
   "application/vnd.jupyter.widget-state+json": {
    "state": {},
    "version_major": 2,
    "version_minor": 0
   }
  }
 },
 "nbformat": 4,
 "nbformat_minor": 5
}
