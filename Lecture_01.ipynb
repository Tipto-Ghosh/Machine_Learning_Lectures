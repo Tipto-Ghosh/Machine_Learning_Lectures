{
 "cells": [
  {
   "cell_type": "raw",
   "id": "b1d8eefe-f9ea-4b37-8303-69506c74a6ca",
   "metadata": {},
   "source": [
    "Machine Learning Definition: A computer program is said to learn from experience E with respect to some class of task T and \n",
    "performance measure P, if it's performance at tasks in T, as measured by P, improves with experience E."
   ]
  },
  {
   "cell_type": "raw",
   "id": "728e0386-d41e-4eaa-8c61-92f233a4f686",
   "metadata": {},
   "source": [
    "Machine Learning: Machine Learning involves using data to make predictions or perform tasks. Main Focus is making decisions or predictions based on data.\n",
    "To make a machine learning application we have to go through some steps.\n",
    "1. Collect Data and process it like ML algorithm can deal with these data\n",
    "2. Space of possible solutions\n",
    "3. Charaterige objectives\n",
    "4. Use an algorithm to find the solution\n",
    "5. Valided the result"
   ]
  },
  {
   "cell_type": "raw",
   "id": "5a1783f8-4ae4-4e12-9ba7-5fdc3d997a23",
   "metadata": {},
   "source": [
    "AI a broader field involving creating intelligent system. ML is a subset of AI that focuses specially on creating algorithm\n",
    "and statiscal models that allows computers to learn from experiences(data) without being exolicitly programmed for every task."
   ]
  },
  {
   "cell_type": "raw",
   "id": "18c0a013-f0bc-4054-ac66-b216f7744470",
   "metadata": {},
   "source": [
    "Types of ML:\n",
    "1. Supervised Learning: Learning with labled data.\n",
    "2. Unsupervised Learning: Learning with unlabled data. Finding patterns in unlabled data\n",
    "3. Reinforcement Learning: Learning by intereacting with an environment to maximize rewards"
   ]
  },
  {
   "cell_type": "raw",
   "id": "1d91470b-20d4-4cfc-aa47-bf0233bf353f",
   "metadata": {},
   "source": [
    "In Summary, AI is the goal and ML is one of the way to achieve that goal. While AI is focused on making systems 'Intelligent', ML is specially about enabling systems to learn from data"
   ]
  }
 ],
 "metadata": {
  "kernelspec": {
   "display_name": "Python 3 (ipykernel)",
   "language": "python",
   "name": "python3"
  },
  "language_info": {
   "codemirror_mode": {
    "name": "ipython",
    "version": 3
   },
   "file_extension": ".py",
   "mimetype": "text/x-python",
   "name": "python",
   "nbconvert_exporter": "python",
   "pygments_lexer": "ipython3",
   "version": "3.12.7"
  },
  "widgets": {
   "application/vnd.jupyter.widget-state+json": {
    "state": {},
    "version_major": 2,
    "version_minor": 0
   }
  }
 },
 "nbformat": 4,
 "nbformat_minor": 5
}
